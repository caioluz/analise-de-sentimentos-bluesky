{
  "nbformat": 4,
  "nbformat_minor": 0,
  "metadata": {
    "colab": {
      "provenance": []
    },
    "kernelspec": {
      "name": "python3",
      "display_name": "Python 3"
    },
    "language_info": {
      "name": "python"
    }
  },
  "cells": [
    {
      "cell_type": "code",
      "execution_count": null,
      "metadata": {
        "id": "TStfXLTAejFM",
        "colab": {
          "base_uri": "https://localhost:8080/"
        },
        "outputId": "55ba7852-0a78-4b0e-e1e4-4a4ce6ffab12"
      },
      "outputs": [
        {
          "output_type": "stream",
          "name": "stdout",
          "text": [
            "                                                 uri        record.$type  \\\n",
            "0  at://did:plc:rayuddspqlhkertytsslwl5r/app.bsky...  app.bsky.feed.post   \n",
            "1  at://did:plc:bk2jvyictgoqmz4n3ak6x3uw/app.bsky...  app.bsky.feed.post   \n",
            "2  at://did:plc:2zmtgk2ojvyb5n5jxlawlkkm/app.bsky...  app.bsky.feed.post   \n",
            "3  at://did:plc:6vbbgtmnproys7h6vahk5b4j/app.bsky...  app.bsky.feed.post   \n",
            "4  at://did:plc:fe2gowmfxtmoypjfipwdtirm/app.bsky...  app.bsky.feed.post   \n",
            "\n",
            "           record.createdAt  replyCount.$numberLong  repostCount.$numberLong  \\\n",
            "0  2024-08-31T03:00:22.086Z                       0                        0   \n",
            "1  2024-08-31T03:00:54.765Z                       0                        0   \n",
            "2  2024-08-31T03:01:12.232Z                       1                        3   \n",
            "3  2024-08-31T03:02:59.393Z                       0                        0   \n",
            "4  2024-08-31T03:02:40.289Z                       0                        0   \n",
            "\n",
            "   likeCount.$numberLong  quoteCount.$numberLong  \\\n",
            "0                      0                       0   \n",
            "1                      3                       0   \n",
            "2                     30                       2   \n",
            "3                      0                       1   \n",
            "4                     17                       0   \n",
            "\n",
            "                                         record.text  \n",
            "0  Thiago, viu se a GADAIADA já veio?\\nO XANDÃO d...  \n",
            "1                 vai punir ou vai só vigiar xandao?  \n",
            "2     Xandão vc pode banir o jogo do tigrinho tbm? 🙏  \n",
            "3  Achei uma palhaçada o Xandão trolar a gente em...  \n",
            "4  Vou parar de dar F5 no twitter, vai que o Xand...  \n"
          ]
        }
      ],
      "source": [
        "import pandas as pd\n",
        "\n",
        "file_path = \"output.csv\"\n",
        "df = pd.read_csv(file_path)\n",
        "\n",
        "columns = [col for col in df.columns if col != \"record.text\"]\n",
        "columns.append(\"record.text\")\n",
        "df = df[columns]\n",
        "\n",
        "\n",
        "df.to_csv(\"postagens_bluesky_todo_periodo.csv\", index=False)"
      ]
    },
    {
      "cell_type": "markdown",
      "source": [
        "Termos relacionados ao **STF**"
      ],
      "metadata": {
        "id": "6GMJPtwJXo05"
      }
    },
    {
      "cell_type": "code",
      "source": [
        "file_path = \"postagens_bluesky_todo_periodo.csv\"\n",
        "df = pd.read_csv(file_path)\n",
        "\n",
        "terms = [\"roberto barroso\", \"gilmar mendes\", \"stf\"]\n",
        "pattern = '|'.join(terms)  # regex \"roberto barroso|gilmar mendes|stf\"\n",
        "\n",
        "filtered_df = df[df[\"record.text\"].str.contains(pattern, case=False, na=False)]\n",
        "\n",
        "filtered_df.to_csv(\"stf_posts_filtrados.csv\", index=False)"
      ],
      "metadata": {
        "id": "P8hVIKYCUKkQ"
      },
      "execution_count": null,
      "outputs": []
    },
    {
      "cell_type": "markdown",
      "source": [
        "Termos relacionados ao **Bluesky**"
      ],
      "metadata": {
        "id": "0EXlpqrQki_2"
      }
    },
    {
      "cell_type": "code",
      "source": [
        "file_path = \"postagens_bluesky_todo_periodo.csv\"\n",
        "df = pd.read_csv(file_path)\n",
        "\n",
        "term = \"bluesky\"\n",
        "\n",
        "filtered_df = df[df[\"record.text\"].str.contains(term, case=False, na=False)]\n",
        "\n",
        "filtered_df.to_csv(\"bluesky_posts_filtrados.csv\", index=False)"
      ],
      "metadata": {
        "id": "vPKJq81rX7GL"
      },
      "execution_count": null,
      "outputs": []
    },
    {
      "cell_type": "markdown",
      "source": [
        "Termos relacionados ao **Twitter** / **X**"
      ],
      "metadata": {
        "id": "-7uVPoo16yu5"
      }
    },
    {
      "cell_type": "code",
      "source": [
        "file_path = \"postagens_bluesky_todo_periodo.csv\"\n",
        "df = pd.read_csv(file_path)\n",
        "\n",
        "pattern = r\"\\b(twitter|X)\\b\"  # \\b assegura que X seja isolado\n",
        "\n",
        "filtered_df = df[df[\"record.text\"].str.contains(pattern, case=False, na=False)]\n",
        "\n",
        "filtered_df.to_csv(\"twitter_x_posts_filtrados.csv\", index=False)"
      ],
      "metadata": {
        "colab": {
          "base_uri": "https://localhost:8080/"
        },
        "id": "D8hybJ3llbW_",
        "outputId": "d1a5b60a-e6b6-4498-b73b-10ec8a09f904"
      },
      "execution_count": null,
      "outputs": [
        {
          "output_type": "stream",
          "name": "stderr",
          "text": [
            "<ipython-input-4-c93ea94b6294>:6: UserWarning: This pattern is interpreted as a regular expression, and has match groups. To actually get the groups, use str.extract.\n",
            "  filtered_df = df[df[\"record.text\"].str.contains(pattern, case=False, na=False)]\n"
          ]
        }
      ]
    },
    {
      "cell_type": "code",
      "source": [],
      "metadata": {
        "id": "BbjKOI1-AD02"
      },
      "execution_count": null,
      "outputs": []
    }
  ]
}