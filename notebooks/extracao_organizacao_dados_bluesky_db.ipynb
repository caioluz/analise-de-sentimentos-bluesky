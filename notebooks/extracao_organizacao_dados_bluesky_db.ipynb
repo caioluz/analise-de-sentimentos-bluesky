{
  "nbformat": 4,
  "nbformat_minor": 0,
  "metadata": {
    "colab": {
      "provenance": []
    },
    "kernelspec": {
      "name": "python3",
      "display_name": "Python 3"
    },
    "language_info": {
      "name": "python"
    }
  },
  "cells": [
    {
      "cell_type": "code",
      "execution_count": null,
      "metadata": {
        "colab": {
          "base_uri": "https://localhost:8080/"
        },
        "id": "QJ7j3kLL2w6W",
        "outputId": "bddf4683-905d-4467-e11f-ee4aa3c5349f"
      },
      "outputs": [
        {
          "output_type": "stream",
          "name": "stdout",
          "text": [
            "Requirement already satisfied: pymongo in /usr/local/lib/python3.10/dist-packages (4.10.1)\n",
            "Requirement already satisfied: dnspython<3.0.0,>=1.16.0 in /usr/local/lib/python3.10/dist-packages (from pymongo) (2.7.0)\n"
          ]
        }
      ],
      "source": [
        "pip install pymongo"
      ]
    },
    {
      "cell_type": "code",
      "source": [
        "import pymongo\n",
        "import csv\n",
        "\n",
        "from google.colab import userdata\n",
        "my_db = userdata.get('mydatabase')"
      ],
      "metadata": {
        "id": "DoSrm2j_7zWd"
      },
      "execution_count": null,
      "outputs": []
    },
    {
      "cell_type": "code",
      "source": [
        "client = pymongo.MongoClient(my_db)\n",
        "db = client[\"bluesky\"]\n",
        "collection = db[\"posts\"]"
      ],
      "metadata": {
        "id": "groVScr1CaD8"
      },
      "execution_count": null,
      "outputs": []
    },
    {
      "cell_type": "code",
      "source": [
        "csv_filename = \"output_bluesky.csv\"\n",
        "\n",
        "# Campos extraídos para o csv\n",
        "fields = [\n",
        "    \"uri\",\n",
        "    \"record.$type\",\n",
        "    \"record.createdAt\",\n",
        "    \"record.text\",\n",
        "    \"replyCount.$numberLong\",\n",
        "    \"repostCount.$numberLong\",\n",
        "    \"likeCount.$numberLong\",\n",
        "    \"quoteCount.$numberLong\"\n",
        "]"
      ],
      "metadata": {
        "id": "j-6ppeX4Cexw"
      },
      "execution_count": null,
      "outputs": []
    },
    {
      "cell_type": "code",
      "source": [
        "# Garante que não irá adicionar textos duplicados\n",
        "existing_texts = set()"
      ],
      "metadata": {
        "id": "m0J9al7ECvJl"
      },
      "execution_count": null,
      "outputs": []
    },
    {
      "cell_type": "code",
      "source": [
        "with open(csv_filename, mode=\"w\", newline=\"\", encoding=\"utf-8\") as file:\n",
        "    writer = csv.writer(file, quoting=csv.QUOTE_MINIMAL)\n",
        "\n",
        "\n",
        "    writer.writerow(fields)\n",
        "\n",
        "\n",
        "    for document in collection.find():\n",
        "\n",
        "        record_text = document.get(\"record\", {}).get(\"text\", \"\")\n",
        "\n",
        "\n",
        "        if record_text and record_text not in existing_texts:\n",
        "\n",
        "            existing_texts.add(record_text)\n",
        "\n",
        "            def safe_get(field, subfield):\n",
        "                value = document.get(field, {})\n",
        "                return value.get(subfield, \"\") if isinstance(value, dict) else value\n",
        "\n",
        "            row = [\n",
        "                document.get(\"uri\", \"\"),\n",
        "                document.get(\"record\", {}).get(\"$type\", \"\"),\n",
        "                document.get(\"record\", {}).get(\"createdAt\", \"\"),\n",
        "                record_text,\n",
        "                safe_get(\"replyCount\", \"$numberLong\"),\n",
        "                safe_get(\"repostCount\", \"$numberLong\"),\n",
        "                safe_get(\"likeCount\", \"$numberLong\"),\n",
        "                safe_get(\"quoteCount\", \"$numberLong\")\n",
        "            ]\n",
        "\n",
        "            writer.writerow(row)"
      ],
      "metadata": {
        "id": "phrslxCGC8or"
      },
      "execution_count": null,
      "outputs": []
    },
    {
      "cell_type": "code",
      "source": [],
      "metadata": {
        "id": "B6dglh6dDOPw"
      },
      "execution_count": null,
      "outputs": []
    }
  ]
}