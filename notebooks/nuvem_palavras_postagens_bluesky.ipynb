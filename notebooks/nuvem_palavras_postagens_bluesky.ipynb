{
  "nbformat": 4,
  "nbformat_minor": 0,
  "metadata": {
    "colab": {
      "provenance": []
    },
    "kernelspec": {
      "name": "python3",
      "display_name": "Python 3"
    },
    "language_info": {
      "name": "python"
    }
  },
  "cells": [
    {
      "cell_type": "code",
      "execution_count": null,
      "metadata": {
        "colab": {
          "base_uri": "https://localhost:8080/"
        },
        "id": "QJ7j3kLL2w6W",
        "outputId": "be782476-1544-4274-c23d-8677c4988dfe"
      },
      "outputs": [
        {
          "output_type": "stream",
          "name": "stdout",
          "text": [
            "Collecting pymongo\n",
            "  Downloading pymongo-4.10.1-cp310-cp310-manylinux_2_17_x86_64.manylinux2014_x86_64.whl.metadata (22 kB)\n",
            "Collecting dnspython<3.0.0,>=1.16.0 (from pymongo)\n",
            "  Downloading dnspython-2.7.0-py3-none-any.whl.metadata (5.8 kB)\n",
            "Downloading pymongo-4.10.1-cp310-cp310-manylinux_2_17_x86_64.manylinux2014_x86_64.whl (1.4 MB)\n",
            "\u001b[2K   \u001b[90m━━━━━━━━━━━━━━━━━━━━━━━━━━━━━━━━━━━━━━━━\u001b[0m \u001b[32m1.4/1.4 MB\u001b[0m \u001b[31m14.8 MB/s\u001b[0m eta \u001b[36m0:00:00\u001b[0m\n",
            "\u001b[?25hDownloading dnspython-2.7.0-py3-none-any.whl (313 kB)\n",
            "\u001b[2K   \u001b[90m━━━━━━━━━━━━━━━━━━━━━━━━━━━━━━━━━━━━━━━━\u001b[0m \u001b[32m313.6/313.6 kB\u001b[0m \u001b[31m11.8 MB/s\u001b[0m eta \u001b[36m0:00:00\u001b[0m\n",
            "\u001b[?25hInstalling collected packages: dnspython, pymongo\n",
            "Successfully installed dnspython-2.7.0 pymongo-4.10.1\n"
          ]
        }
      ],
      "source": [
        "pip install pymongo"
      ]
    },
    {
      "cell_type": "code",
      "source": [
        "import pymongo\n",
        "import csv"
      ],
      "metadata": {
        "id": "DoSrm2j_7zWd"
      },
      "execution_count": null,
      "outputs": []
    },
    {
      "cell_type": "code",
      "source": [
        "from google.colab import userdata\n",
        "my_db = userdata.get('mydatabase')"
      ],
      "metadata": {
        "id": "y5Uh6UGT2jMi"
      },
      "execution_count": null,
      "outputs": []
    },
    {
      "cell_type": "code",
      "source": [
        "client = pymongo.MongoClient(my_db)\n",
        "db = client[\"bluesky\"]\n",
        "collection = db[\"posts\"]"
      ],
      "metadata": {
        "id": "PdvZVH1077m_"
      },
      "execution_count": null,
      "outputs": []
    },
    {
      "cell_type": "code",
      "source": [
        "textos_unicos = set()\n",
        "\n",
        "for doc in collection.find():\n",
        "    texto = doc['record']['text']\n",
        "    textos_unicos.add(texto)"
      ],
      "metadata": {
        "id": "4pjrUx968ENQ"
      },
      "execution_count": null,
      "outputs": []
    },
    {
      "cell_type": "code",
      "source": [
        "with open('textos_unicos.csv', 'w', newline='', encoding='utf-8') as csvfile:\n",
        "    writer = csv.writer(csvfile)\n",
        "    for texto in textos_unicos:\n",
        "        writer.writerow([texto])"
      ],
      "metadata": {
        "id": "6GDicoVo9DJk"
      },
      "execution_count": null,
      "outputs": []
    },
    {
      "cell_type": "code",
      "source": [
        "import nltk\n",
        "from wordcloud import WordCloud\n",
        "import matplotlib.pyplot as plt\n",
        "from nltk.corpus import stopwords\n",
        "from nltk.tokenize import word_tokenize"
      ],
      "metadata": {
        "id": "DX7FNUcW9UGg"
      },
      "execution_count": null,
      "outputs": []
    },
    {
      "cell_type": "code",
      "source": [
        "nltk.download('punkt')\n",
        "nltk.download('stopwords')"
      ],
      "metadata": {
        "colab": {
          "base_uri": "https://localhost:8080/"
        },
        "id": "uj6_4DYXFtTN",
        "outputId": "ee713e62-d145-4820-e666-05333d5e2f1a"
      },
      "execution_count": null,
      "outputs": [
        {
          "output_type": "stream",
          "name": "stderr",
          "text": [
            "[nltk_data] Downloading package punkt to /root/nltk_data...\n",
            "[nltk_data]   Package punkt is already up-to-date!\n",
            "[nltk_data] Downloading package stopwords to /root/nltk_data...\n",
            "[nltk_data]   Package stopwords is already up-to-date!\n"
          ]
        },
        {
          "output_type": "execute_result",
          "data": {
            "text/plain": [
              "True"
            ]
          },
          "metadata": {},
          "execution_count": 10
        }
      ]
    },
    {
      "cell_type": "code",
      "source": [
        "def preprocess_text(text):\n",
        "    words = word_tokenize(text)\n",
        "    words = [word.lower() for word in words if word.isalpha()]\n",
        "    my_stop_words = {\"alexandre\", \"morais\", \"xandão\", \"elon\", \"musk\", \"Xandão\", \"xandÃo\", \"xandão!\", \"moraes\", \"cu\", \"cú\", \"não\", \"sim\", \"aqui\", \"agora\", \"tudo\", \"aí\", \"ai\", \"porra\" , \"vsf\", \"já\", \"cá\", \"ja\", \"ca\", \"fuder\", \"gente\", \"cara\", \"deu\", \"vai\", \"tomar\", \"no\", \"xandao\", \"todo\", \"assim\", \"tão\", \"tao\", \"né\", \"ne\", \"merda\", \"lá\", \"la\", \"tbm\", \"vc\", \"eh\", \"é\", \"pq\", \"q\", \"que\", \"pau\", \"pro\", \"ainda\", \"caralho\", \"não\", \"porque\", \"então\", \"entao\", \"n\", \"filho\", \"da\", \"puta\", \"desgraça\", \"desgraçado\", \"fudeu\", \"Twitter\", \"X\"}\n",
        "    stop_words = set(stopwords.words('portuguese')).union(my_stop_words)\n",
        "    words = [w for w in words if not w in stop_words]\n",
        "    return words"
      ],
      "metadata": {
        "id": "KJI0CLTgFyA5"
      },
      "execution_count": null,
      "outputs": []
    },
    {
      "cell_type": "code",
      "source": [
        "all_words = []\n",
        "for texto in textos_unicos:\n",
        "    words = preprocess_text(texto)\n",
        "    all_words.extend(words)"
      ],
      "metadata": {
        "id": "z2prRoNXF2m1"
      },
      "execution_count": null,
      "outputs": []
    },
    {
      "cell_type": "code",
      "source": [
        "wordcloud = WordCloud(width=800, height=400, background_color='white').generate(' '.join(all_words))"
      ],
      "metadata": {
        "id": "TQAexi5pGSzd"
      },
      "execution_count": null,
      "outputs": []
    },
    {
      "cell_type": "code",
      "source": [
        "plt.figure(figsize=(10, 5))\n",
        "plt.imshow(wordcloud, interpolation='bilinear')\n",
        "plt.axis(\"off\")\n",
        "plt.savefig(\"wordcloud_posts.png\")\n",
        "plt.show()"
      ],
      "metadata": {
        "id": "YtXo3TPUg2A-"
      },
      "execution_count": null,
      "outputs": []
    },
    {
      "cell_type": "code",
      "source": [],
      "metadata": {
        "id": "XYQKfxR_PnDs"
      },
      "execution_count": null,
      "outputs": []
    }
  ]
}