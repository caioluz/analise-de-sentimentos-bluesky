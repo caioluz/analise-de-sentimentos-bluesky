{
  "nbformat": 4,
  "nbformat_minor": 0,
  "metadata": {
    "colab": {
      "provenance": []
    },
    "kernelspec": {
      "name": "python3",
      "display_name": "Python 3"
    },
    "language_info": {
      "name": "python"
    }
  },
  "cells": [
    {
      "cell_type": "code",
      "execution_count": null,
      "metadata": {
        "colab": {
          "base_uri": "https://localhost:8080/"
        },
        "id": "Kp3-zy2FYanR",
        "outputId": "7768b750-30e5-4025-da52-0e6b8b36b07d"
      },
      "outputs": [
        {
          "output_type": "stream",
          "name": "stdout",
          "text": [
            "Requirement already satisfied: google-cloud-language in /usr/local/lib/python3.10/dist-packages (2.15.1)\n",
            "Requirement already satisfied: google-api-core!=2.0.*,!=2.1.*,!=2.10.*,!=2.2.*,!=2.3.*,!=2.4.*,!=2.5.*,!=2.6.*,!=2.7.*,!=2.8.*,!=2.9.*,<3.0.0dev,>=1.34.1 in /usr/local/lib/python3.10/dist-packages (from google-api-core[grpc]!=2.0.*,!=2.1.*,!=2.10.*,!=2.2.*,!=2.3.*,!=2.4.*,!=2.5.*,!=2.6.*,!=2.7.*,!=2.8.*,!=2.9.*,<3.0.0dev,>=1.34.1->google-cloud-language) (2.19.2)\n",
            "Requirement already satisfied: google-auth!=2.24.0,!=2.25.0,<3.0.0dev,>=2.14.1 in /usr/local/lib/python3.10/dist-packages (from google-cloud-language) (2.27.0)\n",
            "Requirement already satisfied: proto-plus<2.0.0dev,>=1.22.3 in /usr/local/lib/python3.10/dist-packages (from google-cloud-language) (1.25.0)\n",
            "Requirement already satisfied: protobuf!=4.21.0,!=4.21.1,!=4.21.2,!=4.21.3,!=4.21.4,!=4.21.5,<6.0.0dev,>=3.20.2 in /usr/local/lib/python3.10/dist-packages (from google-cloud-language) (4.25.5)\n",
            "Requirement already satisfied: googleapis-common-protos<2.0.dev0,>=1.56.2 in /usr/local/lib/python3.10/dist-packages (from google-api-core!=2.0.*,!=2.1.*,!=2.10.*,!=2.2.*,!=2.3.*,!=2.4.*,!=2.5.*,!=2.6.*,!=2.7.*,!=2.8.*,!=2.9.*,<3.0.0dev,>=1.34.1->google-api-core[grpc]!=2.0.*,!=2.1.*,!=2.10.*,!=2.2.*,!=2.3.*,!=2.4.*,!=2.5.*,!=2.6.*,!=2.7.*,!=2.8.*,!=2.9.*,<3.0.0dev,>=1.34.1->google-cloud-language) (1.66.0)\n",
            "Requirement already satisfied: requests<3.0.0.dev0,>=2.18.0 in /usr/local/lib/python3.10/dist-packages (from google-api-core!=2.0.*,!=2.1.*,!=2.10.*,!=2.2.*,!=2.3.*,!=2.4.*,!=2.5.*,!=2.6.*,!=2.7.*,!=2.8.*,!=2.9.*,<3.0.0dev,>=1.34.1->google-api-core[grpc]!=2.0.*,!=2.1.*,!=2.10.*,!=2.2.*,!=2.3.*,!=2.4.*,!=2.5.*,!=2.6.*,!=2.7.*,!=2.8.*,!=2.9.*,<3.0.0dev,>=1.34.1->google-cloud-language) (2.32.3)\n",
            "Requirement already satisfied: grpcio<2.0dev,>=1.33.2 in /usr/local/lib/python3.10/dist-packages (from google-api-core[grpc]!=2.0.*,!=2.1.*,!=2.10.*,!=2.2.*,!=2.3.*,!=2.4.*,!=2.5.*,!=2.6.*,!=2.7.*,!=2.8.*,!=2.9.*,<3.0.0dev,>=1.34.1->google-cloud-language) (1.68.0)\n",
            "Requirement already satisfied: grpcio-status<2.0.dev0,>=1.33.2 in /usr/local/lib/python3.10/dist-packages (from google-api-core[grpc]!=2.0.*,!=2.1.*,!=2.10.*,!=2.2.*,!=2.3.*,!=2.4.*,!=2.5.*,!=2.6.*,!=2.7.*,!=2.8.*,!=2.9.*,<3.0.0dev,>=1.34.1->google-cloud-language) (1.62.3)\n",
            "Requirement already satisfied: cachetools<6.0,>=2.0.0 in /usr/local/lib/python3.10/dist-packages (from google-auth!=2.24.0,!=2.25.0,<3.0.0dev,>=2.14.1->google-cloud-language) (5.5.0)\n",
            "Requirement already satisfied: pyasn1-modules>=0.2.1 in /usr/local/lib/python3.10/dist-packages (from google-auth!=2.24.0,!=2.25.0,<3.0.0dev,>=2.14.1->google-cloud-language) (0.4.1)\n",
            "Requirement already satisfied: rsa<5,>=3.1.4 in /usr/local/lib/python3.10/dist-packages (from google-auth!=2.24.0,!=2.25.0,<3.0.0dev,>=2.14.1->google-cloud-language) (4.9)\n",
            "Requirement already satisfied: pyasn1<0.7.0,>=0.4.6 in /usr/local/lib/python3.10/dist-packages (from pyasn1-modules>=0.2.1->google-auth!=2.24.0,!=2.25.0,<3.0.0dev,>=2.14.1->google-cloud-language) (0.6.1)\n",
            "Requirement already satisfied: charset-normalizer<4,>=2 in /usr/local/lib/python3.10/dist-packages (from requests<3.0.0.dev0,>=2.18.0->google-api-core!=2.0.*,!=2.1.*,!=2.10.*,!=2.2.*,!=2.3.*,!=2.4.*,!=2.5.*,!=2.6.*,!=2.7.*,!=2.8.*,!=2.9.*,<3.0.0dev,>=1.34.1->google-api-core[grpc]!=2.0.*,!=2.1.*,!=2.10.*,!=2.2.*,!=2.3.*,!=2.4.*,!=2.5.*,!=2.6.*,!=2.7.*,!=2.8.*,!=2.9.*,<3.0.0dev,>=1.34.1->google-cloud-language) (3.4.0)\n",
            "Requirement already satisfied: idna<4,>=2.5 in /usr/local/lib/python3.10/dist-packages (from requests<3.0.0.dev0,>=2.18.0->google-api-core!=2.0.*,!=2.1.*,!=2.10.*,!=2.2.*,!=2.3.*,!=2.4.*,!=2.5.*,!=2.6.*,!=2.7.*,!=2.8.*,!=2.9.*,<3.0.0dev,>=1.34.1->google-api-core[grpc]!=2.0.*,!=2.1.*,!=2.10.*,!=2.2.*,!=2.3.*,!=2.4.*,!=2.5.*,!=2.6.*,!=2.7.*,!=2.8.*,!=2.9.*,<3.0.0dev,>=1.34.1->google-cloud-language) (3.10)\n",
            "Requirement already satisfied: urllib3<3,>=1.21.1 in /usr/local/lib/python3.10/dist-packages (from requests<3.0.0.dev0,>=2.18.0->google-api-core!=2.0.*,!=2.1.*,!=2.10.*,!=2.2.*,!=2.3.*,!=2.4.*,!=2.5.*,!=2.6.*,!=2.7.*,!=2.8.*,!=2.9.*,<3.0.0dev,>=1.34.1->google-api-core[grpc]!=2.0.*,!=2.1.*,!=2.10.*,!=2.2.*,!=2.3.*,!=2.4.*,!=2.5.*,!=2.6.*,!=2.7.*,!=2.8.*,!=2.9.*,<3.0.0dev,>=1.34.1->google-cloud-language) (2.2.3)\n",
            "Requirement already satisfied: certifi>=2017.4.17 in /usr/local/lib/python3.10/dist-packages (from requests<3.0.0.dev0,>=2.18.0->google-api-core!=2.0.*,!=2.1.*,!=2.10.*,!=2.2.*,!=2.3.*,!=2.4.*,!=2.5.*,!=2.6.*,!=2.7.*,!=2.8.*,!=2.9.*,<3.0.0dev,>=1.34.1->google-api-core[grpc]!=2.0.*,!=2.1.*,!=2.10.*,!=2.2.*,!=2.3.*,!=2.4.*,!=2.5.*,!=2.6.*,!=2.7.*,!=2.8.*,!=2.9.*,<3.0.0dev,>=1.34.1->google-cloud-language) (2024.8.30)\n"
          ]
        }
      ],
      "source": [
        "!pip install google-cloud-language"
      ]
    },
    {
      "cell_type": "code",
      "source": [
        "import pandas as pd\n",
        "from google.cloud import language_v2\n",
        "from google.cloud import language_v1\n",
        "from google.oauth2 import service_account\n",
        "\n",
        "SERVICE_ACCOUNT_FILE = 'service_account.json'\n",
        "\n",
        "SCOPES = ['https://www.googleapis.com/auth/cloud-language']\n",
        "\n",
        "credentials = service_account.Credentials.from_service_account_file(\n",
        "    SERVICE_ACCOUNT_FILE\n",
        ")\n",
        "credentials=credentials.with_scopes(SCOPES)"
      ],
      "metadata": {
        "id": "6FKKGVraZQ5Q"
      },
      "execution_count": null,
      "outputs": []
    },
    {
      "cell_type": "code",
      "source": [
        "import time\n",
        "def analyze_bluesky_sentiment_v2_csv(csv_file, output_file, text_row):\n",
        "\n",
        "    df = pd.read_csv(csv_file, encoding='utf-8')\n",
        "\n",
        "\n",
        "    client = language_v2.LanguageServiceClient(credentials=credentials)\n",
        "\n",
        "\n",
        "    results = []\n",
        "\n",
        "    for _, row in df.iterrows():\n",
        "        post = row[text_row]\n",
        "\n",
        "\n",
        "        document = {\n",
        "            \"content\": post,\n",
        "            \"type\": language_v2.Document.Type.PLAIN_TEXT,\n",
        "            \"language_code\": \"pt\"\n",
        "        }\n",
        "\n",
        "        try:\n",
        "\n",
        "            response = client.analyze_sentiment(request={\"document\": document})\n",
        "            sentiment = response.document_sentiment\n",
        "\n",
        "\n",
        "            if 0.25 < sentiment.score <= 1:\n",
        "                sentiment_api = \"positivo\"\n",
        "            elif -1 <= sentiment.score < -0.25:\n",
        "                sentiment_api = \"negativo\"\n",
        "            elif -0.25 <= sentiment.score <= 0.25:\n",
        "                if sentiment.magnitude > 1:\n",
        "                    sentiment_api = \"misto\"\n",
        "                else:\n",
        "                    sentiment_api = \"neutro\"\n",
        "            else:\n",
        "                sentiment_api = \"undefined\"  # Se algum valor não for contemplado\n",
        "\n",
        "\n",
        "            results.append({\n",
        "                \"uri\": row[\"uri\"],\n",
        "                \"record.$type\": row[\"record.$type\"],\n",
        "                \"record.createdAt\": row[\"record.createdAt\"],\n",
        "                \"replyCount.$numberLong\": row[\"replyCount.$numberLong\"],\n",
        "                \"repostCount.$numberLong\": row[\"repostCount.$numberLong\"],\n",
        "                \"likeCount.$numberLong\": row[\"likeCount.$numberLong\"],\n",
        "                \"quoteCount.$numberLong\": row[\"quoteCount.$numberLong\"],\n",
        "                \"score\": sentiment.score,\n",
        "                \"magnitude\": sentiment.magnitude,\n",
        "                \"sentiment_api\": sentiment_api,\n",
        "                \"record.text\": post\n",
        "            })\n",
        "\n",
        "        except Exception as e:\n",
        "            print(f\"Erro ao processar: {e}\")\n",
        "            continue\n",
        "\n",
        "\n",
        "        time.sleep(0.1)  # Pausa de 100ms por requisição (10 requisições por segundo)\n",
        "\n",
        "\n",
        "    result_df = pd.DataFrame(results)\n",
        "\n",
        "\n",
        "    result_df.to_csv(output_file, index=False)"
      ],
      "metadata": {
        "id": "Lpl-VuWiZx5j"
      },
      "execution_count": null,
      "outputs": []
    },
    {
      "cell_type": "markdown",
      "source": [
        "Análise de sentimentos posts relacionados ao **STF**"
      ],
      "metadata": {
        "id": "7MYaEa4tc_dX"
      }
    },
    {
      "cell_type": "code",
      "source": [
        "columns = [\n",
        "    \"uri\",\n",
        "    \"record.$type\",\n",
        "    \"record.createdAt\",\n",
        "    \"replyCount.$numberLong\",\n",
        "    \"repostCount.$numberLong\",\n",
        "    \"likeCount.$numberLong\",\n",
        "    \"quoteCount.$numberLong\",\n",
        "    \"score\",\n",
        "    \"magnitude\",\n",
        "    \"sentiment_api\",\n",
        "    \"record.text\"\n",
        "]\n",
        "\n",
        "empty_df = pd.DataFrame(columns=columns)\n",
        "\n",
        "empty_df.to_csv('analise_sentimento_stf.csv', index=False)"
      ],
      "metadata": {
        "id": "zesyK3ufcT-Z"
      },
      "execution_count": null,
      "outputs": []
    },
    {
      "cell_type": "code",
      "source": [
        "analyze_bluesky_sentiment_v2_csv('stf_posts_filtered.csv', 'analise_sentimento_stf.csv', 'record.text')"
      ],
      "metadata": {
        "id": "RTKm8mwPc2BI"
      },
      "execution_count": null,
      "outputs": []
    },
    {
      "cell_type": "markdown",
      "source": [
        "Análise de sentimentos posts relacionados ao **Bluesky**"
      ],
      "metadata": {
        "id": "pQ7d03r1lz94"
      }
    },
    {
      "cell_type": "code",
      "source": [
        "columns = [\n",
        "    \"uri\",\n",
        "    \"record.$type\",\n",
        "    \"record.createdAt\",\n",
        "    \"replyCount.$numberLong\",\n",
        "    \"repostCount.$numberLong\",\n",
        "    \"likeCount.$numberLong\",\n",
        "    \"quoteCount.$numberLong\",\n",
        "    \"score\",\n",
        "    \"magnitude\",\n",
        "    \"sentiment_api\",\n",
        "    \"record.text\"\n",
        "]\n",
        "\n",
        "empty_df = pd.DataFrame(columns=columns)\n",
        "\n",
        "empty_df.to_csv('analise_sentimento_bluesky.csv', index=False)"
      ],
      "metadata": {
        "id": "C7MtFXiXeKok"
      },
      "execution_count": null,
      "outputs": []
    },
    {
      "cell_type": "code",
      "source": [
        "analyze_bluesky_sentiment_v2_csv('bluesky_posts_filtered.csv', 'analise_sentimento_bluesky.csv', 'record.text')"
      ],
      "metadata": {
        "id": "CU0XM49JmEqB"
      },
      "execution_count": null,
      "outputs": []
    },
    {
      "cell_type": "markdown",
      "source": [
        "Análise de sentimentos posts relacionados ao **X** / **Twitter**"
      ],
      "metadata": {
        "id": "5iaN0pUcIxdS"
      }
    },
    {
      "cell_type": "code",
      "source": [
        "columns = [\n",
        "    \"uri\",\n",
        "    \"record.$type\",\n",
        "    \"record.createdAt\",\n",
        "    \"replyCount.$numberLong\",\n",
        "    \"repostCount.$numberLong\",\n",
        "    \"likeCount.$numberLong\",\n",
        "    \"quoteCount.$numberLong\",\n",
        "    \"score\",\n",
        "    \"magnitude\",\n",
        "    \"sentiment_api\",\n",
        "    \"record.text\"\n",
        "]\n",
        "\n",
        "empty_df = pd.DataFrame(columns=columns)\n",
        "\n",
        "empty_df.to_csv('analise_sentimento_twitter.csv', index=False)"
      ],
      "metadata": {
        "id": "SgbsnOYMmWOQ"
      },
      "execution_count": null,
      "outputs": []
    },
    {
      "cell_type": "code",
      "source": [
        "analyze_bluesky_sentiment_v2_csv('twitter_x_posts_filtered.csv', 'analise_sentimento_twitter.csv', 'record.text')"
      ],
      "metadata": {
        "id": "w7IeACmuMqYs"
      },
      "execution_count": null,
      "outputs": []
    },
    {
      "cell_type": "code",
      "source": [],
      "metadata": {
        "id": "fgU3BnJmM4Ar"
      },
      "execution_count": null,
      "outputs": []
    }
  ]
}